{
 "cells": [
  {
   "cell_type": "code",
   "execution_count": 1,
   "id": "5090ae84-c6b1-4080-a9b0-6a13b3c43e2f",
   "metadata": {},
   "outputs": [
    {
     "name": "stdout",
     "output_type": "stream",
     "text": [
      "value of x :  20\n",
      "value of y :  10\n"
     ]
    }
   ],
   "source": [
    "#PYTHON BASIC VARIABLE\n",
    "\n",
    "#QUESTION 1.   Declare two variables, `x` and `y`, and assign them integer values. Swap the\n",
    "#              values of these variables without using any temporary variable. \n",
    "\n",
    "\n",
    "x = 10\n",
    "y = 20\n",
    "\n",
    "x , y = y , x\n",
    "print(\"value of x : \" , x)\n",
    "print(\"value of y : \" , y)"
   ]
  },
  {
   "cell_type": "code",
   "execution_count": 2,
   "id": "ac7cdfcd-69fb-45b8-86f6-e2174e77af27",
   "metadata": {},
   "outputs": [
    {
     "name": "stdin",
     "output_type": "stream",
     "text": [
      "Enter the length of the Rectangle :  5\n",
      "Enter the width of the Rectangle :  7\n"
     ]
    },
    {
     "name": "stdout",
     "output_type": "stream",
     "text": [
      "The Area of Rectangle is :  35.0\n"
     ]
    }
   ],
   "source": [
    "# QUESTION 2.  Create a program that calculates the area of a rectangle. Take the length and\n",
    "#              width as inputs from the user and store them in variables. Calculate and\n",
    "#              display the area.\n",
    "\n",
    "\n",
    "length = float(input(\"Enter the length of the Rectangle : \"))\n",
    "width  = float(input(\"Enter the width of the Rectangle : \"))\n",
    "\n",
    "area = length * width  #Area of Rectangle\n",
    "print(\"The Area of Rectangle is : \" , area)"
   ]
  },
  {
   "cell_type": "code",
   "execution_count": 3,
   "id": "fb53c245-e24f-41a3-8751-a6d7beecad94",
   "metadata": {},
   "outputs": [
    {
     "name": "stdin",
     "output_type": "stream",
     "text": [
      "Enter the temperature in celsius :  37\n"
     ]
    },
    {
     "name": "stdout",
     "output_type": "stream",
     "text": [
      "The temperature in Fahrenheit is: 98.6°F\n"
     ]
    }
   ],
   "source": [
    "#QUESTION 3.  Write a Python program that converts temperatures from Celsius to\n",
    "#             Fahrenheit. Take the temperature in Celsius as input, store it in a variable,\n",
    "#             convert it to Fahrenheit, and display the result.\n",
    "\n",
    "#function to convert celsius to fahrenheit\n",
    "def celsius_to_fahrenheit(celsius):\n",
    "    return (celsius * 9/5) + 32\n",
    "\n",
    "#take user input\n",
    "celsius_temperature = float(input(\"Enter the temperature in celsius : \"))\n",
    "\n",
    "#convert celsius to fahrenheit\n",
    "fahrenheit_temperature = celsius_to_fahrenheit(celsius_temperature)\n",
    "\n",
    "#display the result\n",
    "print(f\"The temperature in Fahrenheit is: {fahrenheit_temperature}°F\")"
   ]
  },
  {
   "cell_type": "code",
   "execution_count": 4,
   "id": "60d7aad3-74cd-4090-9bce-eaca3ca76713",
   "metadata": {},
   "outputs": [
    {
     "name": "stdin",
     "output_type": "stream",
     "text": [
      "Enter a string:  MUSKAN\n"
     ]
    },
    {
     "name": "stdout",
     "output_type": "stream",
     "text": [
      "The length of the string is:  6\n"
     ]
    }
   ],
   "source": [
    "# STRING BASED QUESTION\n",
    "\n",
    "\n",
    "#QUESTION 1.  Write a Python program that takes a string as input and prints the length of\n",
    "#             the string.\n",
    "\n",
    "\n",
    "# Take user input for a string\n",
    "user_input = input(\"Enter a string: \")\n",
    "\n",
    "# Calculate and print the length of the string\n",
    "length_of_string = len(user_input)\n",
    "print(\"The length of the string is: \" , length_of_string)\n"
   ]
  },
  {
   "cell_type": "code",
   "execution_count": 5,
   "id": "37c9fdcf-e992-4cb0-af48-d10d03391e0a",
   "metadata": {},
   "outputs": [
    {
     "name": "stdin",
     "output_type": "stream",
     "text": [
      "Enter a sentence:  HELLO THIS IS MUSKAN AND I M FRON GURUGRAM \n"
     ]
    },
    {
     "name": "stdout",
     "output_type": "stream",
     "text": [
      "The number of vowels in the sentence is: 12\n"
     ]
    }
   ],
   "source": [
    "#QUESTION 2.  Create a program that takes a sentence from the user and counts the number\n",
    "#             of vowels (a, e, i, o, u) in the string.\n",
    "\n",
    "def count_vowels(sentence):\n",
    "    vowels = \"aeiouAEIOU\"\n",
    "    vowel_count = 0\n",
    "\n",
    "    for char in sentence:\n",
    "        if char in vowels:\n",
    "            vowel_count += 1\n",
    "\n",
    "    return vowel_count\n",
    "\n",
    "user_sentence = input(\"Enter a sentence: \")\n",
    "\n",
    "# Count the number of vowels in the sentence\n",
    "vowel_count = count_vowels(user_sentence)\n",
    "\n",
    "print(f\"The number of vowels in the sentence is: {vowel_count}\")\n"
   ]
  },
  {
   "cell_type": "code",
   "execution_count": 6,
   "id": "09d09ac5-e8c1-4a95-909a-212caf3bb2c4",
   "metadata": {},
   "outputs": [
    {
     "name": "stdin",
     "output_type": "stream",
     "text": [
      "Enter a string:  MUSKAN\n"
     ]
    },
    {
     "name": "stdout",
     "output_type": "stream",
     "text": [
      "Reversed string: NAKSUM\n"
     ]
    }
   ],
   "source": [
    "#QUESTION 3.  Given a string, reverse the order of characters using string slicing and print\n",
    "#             the reversed string.\n",
    "\n",
    "user_string = input(\"Enter a string: \")\n",
    "\n",
    "# Reverse the string using string slicing\n",
    "reversed_string = user_string[::-1]\n",
    "\n",
    "print(\"Reversed string:\", reversed_string)\n"
   ]
  },
  {
   "cell_type": "code",
   "execution_count": 7,
   "id": "0dcf81bb-77db-4e9d-9f21-9acfafdbc5e7",
   "metadata": {},
   "outputs": [
    {
     "name": "stdin",
     "output_type": "stream",
     "text": [
      "Enter a string:  LEVEL\n"
     ]
    },
    {
     "name": "stdout",
     "output_type": "stream",
     "text": [
      "The entered string is a palindrome.\n"
     ]
    }
   ],
   "source": [
    "#QUESTION 4. Write a program that takes a string as input and checks if it is a palindrome\n",
    "#            (reads the same forwards and backwards).\n",
    "\n",
    "def is_palindrome(input_string):\n",
    "    # Convert the string to lowercase for case-insensitive comparison\n",
    "    cleaned_string = input_string.lower()\n",
    "    \n",
    "    # Remove spaces from the string\n",
    "    cleaned_string = cleaned_string.replace(\" \", \"\")\n",
    "    \n",
    "    # Check if the cleaned string is the same forwards and backwards\n",
    "    return cleaned_string == cleaned_string[::-1]\n",
    "\n",
    "\n",
    "user_string = input(\"Enter a string: \")\n",
    "\n",
    "if is_palindrome(user_string):\n",
    "    print(\"The entered string is a palindrome.\")\n",
    "else:\n",
    "    print(\"The entered string is not a palindrome.\")\n"
   ]
  },
  {
   "cell_type": "code",
   "execution_count": 8,
   "id": "6675f505-98cb-4de3-ac56-ea5312c3e7e2",
   "metadata": {},
   "outputs": [
    {
     "name": "stdin",
     "output_type": "stream",
     "text": [
      "Enter a string:  HELLO WORLD, THIS IS MUSKAN THE DATA SCIENTIST\n"
     ]
    },
    {
     "name": "stdout",
     "output_type": "stream",
     "text": [
      "Modified string without spaces: HELLOWORLD,THISISMUSKANTHEDATASCIENTIST\n"
     ]
    }
   ],
   "source": [
    "#QUESION 5. Create a program that takes a string as input and removes all the spaces from\n",
    "#           it. Print the modified string without spaces.\n",
    "\n",
    "def remove_spaces(input_string):\n",
    "    return input_string.replace(\" \", \"\")\n",
    "\n",
    "# Take user input \n",
    "user_string = input(\"Enter a string: \")\n",
    "\n",
    "# Remove spaces \n",
    "modified_string = remove_spaces(user_string)\n",
    "\n",
    "print(\"Modified string without spaces:\", modified_string)\n"
   ]
  },
  {
   "cell_type": "code",
   "execution_count": null,
   "id": "cc663d0a-aeb0-4401-9c6d-0b0da6d5b6f4",
   "metadata": {},
   "outputs": [],
   "source": []
  }
 ],
 "metadata": {
  "kernelspec": {
   "display_name": "Python 3 (ipykernel)",
   "language": "python",
   "name": "python3"
  },
  "language_info": {
   "codemirror_mode": {
    "name": "ipython",
    "version": 3
   },
   "file_extension": ".py",
   "mimetype": "text/x-python",
   "name": "python",
   "nbconvert_exporter": "python",
   "pygments_lexer": "ipython3",
   "version": "3.10.8"
  }
 },
 "nbformat": 4,
 "nbformat_minor": 5
}
